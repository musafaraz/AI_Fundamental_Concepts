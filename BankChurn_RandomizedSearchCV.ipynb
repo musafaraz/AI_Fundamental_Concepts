{
 "cells": [
  {
   "cell_type": "code",
   "execution_count": 1,
   "id": "eb94f315",
   "metadata": {},
   "outputs": [],
   "source": [
    "import pandas as pd\n",
    "import numpy as np\n",
    "import seaborn as sns\n",
    "import matplotlib.pyplot as plt\n",
    "from sklearn.model_selection import train_test_split\n",
    "from sklearn.preprocessing import StandardScaler\n",
    "from sklearn.neural_network import MLPClassifier\n",
    "from sklearn.naive_bayes import GaussianNB\n",
    "from sklearn.metrics import roc_curve, roc_auc_score, classification_report, accuracy_score\n",
    "from matplotlib.colors import Normalize, ListedColormap\n",
    "from sklearn.linear_model import LogisticRegression\n",
    "from sklearn.metrics import roc_curve, auc\n",
    "from sklearn.ensemble import RandomForestClassifier, GradientBoostingClassifier\n",
    "from sklearn.model_selection import RandomizedSearchCV\n",
    "\n",
    "# For Suppressing warnings\n",
    "import warnings\n",
    "warnings.filterwarnings('ignore')"
   ]
  },
  {
   "cell_type": "code",
   "execution_count": 2,
   "id": "518f03c0",
   "metadata": {},
   "outputs": [
    {
     "name": "stdout",
     "output_type": "stream",
     "text": [
      "Missing values:\n",
      " id                 0\n",
      "CustomerId         0\n",
      "Surname            0\n",
      "CreditScore        0\n",
      "Geography          0\n",
      "Gender             0\n",
      "Age                0\n",
      "Tenure             0\n",
      "Balance            0\n",
      "NumOfProducts      0\n",
      "HasCrCard          0\n",
      "IsActiveMember     0\n",
      "EstimatedSalary    0\n",
      "Exited             0\n",
      "dtype: int64\n",
      "Original Data Shape: (165034, 14)\n",
      "Copied Data Shape: (165034, 14)\n",
      "Updated Data Shape: (165034, 13)\n",
      "Updated Data with Dropped Columns:\n",
      "    id  CustomerId  CreditScore Geography Gender   Age  Tenure    Balance  \\\n",
      "0   0    15674932          668    France   Male  33.0       3       0.00   \n",
      "1   1    15749177          627    France   Male  33.0       1       0.00   \n",
      "2   2    15694510          678    France   Male  40.0      10       0.00   \n",
      "3   3    15741417          581    France   Male  34.0       2  148882.54   \n",
      "4   4    15766172          716     Spain   Male  33.0       5       0.00   \n",
      "\n",
      "   NumOfProducts  HasCrCard  IsActiveMember  EstimatedSalary  Exited  \n",
      "0              2          1               0        181449.97       0  \n",
      "1              2          1               1         49503.50       0  \n",
      "2              2          1               0        184866.69       0  \n",
      "3              1          1               1         84560.88       0  \n",
      "4              2          1               1         15068.83       0  \n",
      "Updated Data Shape: (165034, 14)\n",
      "Updated Data with Dropped Columns and One-Hot Encoding:\n",
      "    id  CustomerId  CreditScore   Age  Tenure    Balance  NumOfProducts  \\\n",
      "0   0    15674932          668  33.0       3       0.00              2   \n",
      "1   1    15749177          627  33.0       1       0.00              2   \n",
      "2   2    15694510          678  40.0      10       0.00              2   \n",
      "3   3    15741417          581  34.0       2  148882.54              1   \n",
      "4   4    15766172          716  33.0       5       0.00              2   \n",
      "\n",
      "   HasCrCard  IsActiveMember  EstimatedSalary  Exited  Geography_Germany  \\\n",
      "0          1               0        181449.97       0              False   \n",
      "1          1               1         49503.50       0              False   \n",
      "2          1               0        184866.69       0              False   \n",
      "3          1               1         84560.88       0              False   \n",
      "4          1               1         15068.83       0              False   \n",
      "\n",
      "   Geography_Spain  Gender_Male  \n",
      "0            False         True  \n",
      "1            False         True  \n",
      "2            False         True  \n",
      "3            False         True  \n",
      "4             True         True  \n"
     ]
    }
   ],
   "source": [
    "# Loading dataset\n",
    "data = pd.read_csv('C:/Users/Faraz Yusuf Khan/Desktop/Musa/Bank_Churn/BankChurn_train.csv')\n",
    "\n",
    "# Check for missing values\n",
    "print(\"Missing values:\\n\", data.isnull().sum())\n",
    "\n",
    "# Creating a copy of the data\n",
    "data_copy = data.copy()\n",
    "\n",
    "# Check if the copy was successful\n",
    "print(\"Original Data Shape:\", data.shape)\n",
    "print(\"Copied Data Shape:\", data_copy.shape)\n",
    "\n",
    "# Drop the third column\n",
    "data_copy = data_copy.drop(data_copy.columns[[2]], axis=1)\n",
    "\n",
    "# Display the updated DataFrame\n",
    "print(\"Updated Data Shape:\", data_copy.shape)\n",
    "print(\"Updated Data with Dropped Columns:\\n\", data_copy.head())\n",
    "\n",
    "# 'Geography' and 'Gender' are categorical columns\n",
    "categorical_columns = ['Geography', 'Gender']\n",
    "\n",
    "# One-hot encode categorical columns\n",
    "data_copy = pd.get_dummies(data_copy, columns=categorical_columns, drop_first=True)\n",
    "\n",
    "# Display the updated DataFrame\n",
    "print(\"Updated Data Shape:\", data_copy.shape)\n",
    "print(\"Updated Data with Dropped Columns and One-Hot Encoding:\\n\", data_copy.head())"
   ]
  },
  {
   "cell_type": "code",
   "execution_count": 3,
   "id": "0df30c5b",
   "metadata": {},
   "outputs": [
    {
     "name": "stdout",
     "output_type": "stream",
     "text": [
      "X_train shape: (132027, 13)\n",
      "X_test shape: (33007, 13)\n",
      "y_train shape: (132027,)\n",
      "y_test shape: (33007,)\n",
      "Column names in X_train: ['id', 'CustomerId', 'CreditScore', 'Age', 'Tenure', 'Balance', 'NumOfProducts', 'HasCrCard', 'IsActiveMember', 'EstimatedSalary', 'Geography_Germany', 'Geography_Spain', 'Gender_Male']\n"
     ]
    }
   ],
   "source": [
    "# the target variable is in the 'Exited' column\n",
    "target_column = 'Exited'\n",
    "\n",
    "# Separate features (X) and target variable (y)\n",
    "X = data_copy.drop(target_column, axis=1)\n",
    "y = data_copy[target_column]\n",
    "\n",
    "# Split the data into training and testing sets\n",
    "X_train, X_test, y_train, y_test = train_test_split(X, y, test_size=0.2, random_state=42)\n",
    "\n",
    "# Age Binning\n",
    "bins = [0, 30, 45, 100]  # Define your age bins\n",
    "labels = ['Young', 'Middle-aged', 'Senior']\n",
    "data_copy['Age_Group'] = pd.cut(data_copy['Age'], bins=bins, labels=labels, right=False)\n",
    "\n",
    "# Display the shapes of the resulting sets\n",
    "print(\"X_train shape:\", X_train.shape)\n",
    "print(\"X_test shape:\", X_test.shape)\n",
    "print(\"y_train shape:\", y_train.shape)\n",
    "print(\"y_test shape:\", y_test.shape)\n",
    "\n",
    "# Display the names of columns in X_train\n",
    "print(\"Column names in X_train:\", X_train.columns.tolist())"
   ]
  },
  {
   "cell_type": "code",
   "execution_count": 4,
   "id": "421ab6c6",
   "metadata": {},
   "outputs": [],
   "source": [
    "# Initialize a RandomForestClassifier for hyperparameter tuning\n",
    "classifier = RandomForestClassifier(n_jobs=-1,random_state=42)\n",
    "\n",
    "# Define the parameter distribution for hyperparameter tuning\n",
    "param_dist = {\n",
    "    'n_estimators': [50, 100, 150, 200],\n",
    "    'max_depth': [None, 10, 20, 30],\n",
    "    'min_samples_split': [2, 5, 8, 10],\n",
    "    'min_samples_leaf': [1, 2, 3, 4]\n",
    "}"
   ]
  },
  {
   "cell_type": "code",
   "execution_count": 5,
   "id": "2919e816",
   "metadata": {},
   "outputs": [
    {
     "name": "stdout",
     "output_type": "stream",
     "text": [
      "Best Hyperparameters: {'n_estimators': 200, 'min_samples_split': 10, 'min_samples_leaf': 1, 'max_depth': 10}\n"
     ]
    }
   ],
   "source": [
    "# Initialize RandomizedSearchCV\n",
    "random_search = RandomizedSearchCV(classifier, param_dist, n_iter=20, cv=5, scoring='roc_auc', n_jobs=-1, random_state=42)\n",
    "\n",
    "# Fit RandomizedSearchCV to the data\n",
    "random_search.fit(X_train, y_train)\n",
    "\n",
    "# Print the best parameters found by RandomizedSearchCV\n",
    "print(\"Best Hyperparameters:\", random_search.best_params_)"
   ]
  },
  {
   "cell_type": "code",
   "execution_count": 6,
   "id": "afcd8265",
   "metadata": {},
   "outputs": [
    {
     "name": "stdout",
     "output_type": "stream",
     "text": [
      "AUC-ROC Score: 0.8883327356237037\n"
     ]
    }
   ],
   "source": [
    "# Get the best model from the random search\n",
    "best_classifier = random_search.best_estimator_\n",
    "\n",
    "# Train the best classifier\n",
    "best_classifier.fit(X_train, y_train)\n",
    "\n",
    "# Predict probabilities on the test set using the best model\n",
    "y_pred_prob = best_classifier.predict_proba(X_test)[:, 1]\n",
    "\n",
    "# Evaluate the model using AUC-ROC score\n",
    "roc_auc = roc_auc_score(y_test, y_pred_prob)\n",
    "print(f\"AUC-ROC Score: {roc_auc}\")"
   ]
  },
  {
   "cell_type": "code",
   "execution_count": 7,
   "id": "0d7cfca0",
   "metadata": {},
   "outputs": [
    {
     "name": "stdout",
     "output_type": "stream",
     "text": [
      "Missing values in test dataset:\n",
      " id                 0\n",
      "CustomerId         0\n",
      "Surname            0\n",
      "CreditScore        0\n",
      "Geography          0\n",
      "Gender             0\n",
      "Age                0\n",
      "Tenure             0\n",
      "Balance            0\n",
      "NumOfProducts      0\n",
      "HasCrCard          0\n",
      "IsActiveMember     0\n",
      "EstimatedSalary    0\n",
      "dtype: int64\n",
      "Updated Test Data Shape: (110023, 13)\n",
      "Updated Test Data with Dropped Columns and One-Hot Encoding:\n",
      "        id  CustomerId  CreditScore   Age  Tenure    Balance  NumOfProducts  \\\n",
      "0  165034    15773898          586  23.0       2       0.00              2   \n",
      "1  165035    15782418          683  46.0       2       0.00              1   \n",
      "2  165036    15807120          656  34.0       7       0.00              2   \n",
      "3  165037    15808905          681  36.0       8       0.00              1   \n",
      "4  165038    15607314          752  38.0      10  121263.62              1   \n",
      "\n",
      "   HasCrCard  IsActiveMember  EstimatedSalary  Geography_Germany  \\\n",
      "0          0               1        160976.75              False   \n",
      "1          1               0         72549.27              False   \n",
      "2          1               0        138882.09              False   \n",
      "3          1               0        113931.57              False   \n",
      "4          1               0        139431.00               True   \n",
      "\n",
      "   Geography_Spain  Gender_Male  \n",
      "0            False        False  \n",
      "1            False        False  \n",
      "2            False        False  \n",
      "3            False         True  \n",
      "4            False         True  \n"
     ]
    }
   ],
   "source": [
    "# Load the test dataset\n",
    "test_data = pd.read_csv('C:/Users/Faraz Yusuf Khan/Desktop/Musa/Bank_Churn/BankChurn_test.csv')\n",
    "\n",
    "# Check for missing values in the test dataset\n",
    "print(\"Missing values in test dataset:\\n\", test_data.isnull().sum())\n",
    "\n",
    "# Create a copy of the test data\n",
    "test_data_copy = test_data.copy()\n",
    "\n",
    "# Drop the same columns as you did in the training data\n",
    "test_data_copy = test_data_copy.drop(test_data_copy.columns[[2]], axis=1)\n",
    "\n",
    "# One-hot encode categorical columns\n",
    "test_data_copy = pd.get_dummies(test_data_copy, columns=categorical_columns, drop_first=True)\n",
    "\n",
    "# Display the updated test DataFrame\n",
    "print(\"Updated Test Data Shape:\", test_data_copy.shape)\n",
    "print(\"Updated Test Data with Dropped Columns and One-Hot Encoding:\\n\", test_data_copy.head())"
   ]
  },
  {
   "cell_type": "code",
   "execution_count": 8,
   "id": "cc880850",
   "metadata": {},
   "outputs": [
    {
     "name": "stdout",
     "output_type": "stream",
     "text": [
      "We are here\n"
     ]
    }
   ],
   "source": [
    "# Separate features for the test set\n",
    "X_test_submission = test_data_copy\n",
    "\n",
    "# Predict probabilities on the test set\n",
    "y_test_submission_prob = best_classifier.predict_proba(X_test_submission)[:, 1]\n",
    "\n",
    "# Create a DataFrame for submission\n",
    "submission_df = pd.DataFrame({\n",
    "    'id': test_data['id'],  # Assuming 'id' is the identifier column in the test set\n",
    "    'Exited': y_test_submission_prob\n",
    "})\n",
    "\n",
    "# Save the submission file\n",
    "submission_df.to_csv('submission.csv', index=False)\n",
    "\n",
    "print(\"We are here\")"
   ]
  },
  {
   "cell_type": "code",
   "execution_count": null,
   "id": "21137564",
   "metadata": {},
   "outputs": [],
   "source": []
  }
 ],
 "metadata": {
  "kernelspec": {
   "display_name": "Python 3 (ipykernel)",
   "language": "python",
   "name": "python3"
  },
  "language_info": {
   "codemirror_mode": {
    "name": "ipython",
    "version": 3
   },
   "file_extension": ".py",
   "mimetype": "text/x-python",
   "name": "python",
   "nbconvert_exporter": "python",
   "pygments_lexer": "ipython3",
   "version": "3.11.5"
  }
 },
 "nbformat": 4,
 "nbformat_minor": 5
}
